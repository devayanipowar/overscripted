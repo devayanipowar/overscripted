{
 "cells": [
  {
   "cell_type": "markdown",
   "metadata": {},
   "source": [
    "This notebook contains a series of string operations that I find myself doing frequently on this dataset.\n",
    "\n",
    "For the purposes of issue 36 they may not be the least efficient but should be enough to get started and we can dig in further if needed.\n",
    "\n",
    "For dask demo, this shows plenty of examples of applying functions and string operations using dask"
   ]
  },
  {
   "cell_type": "code",
   "execution_count": 2,
   "metadata": {},
   "outputs": [
    {
     "name": "stderr",
     "output_type": "stream",
     "text": [
      "/home/bird/miniconda3/envs/ovscrptd/lib/python3.6/site-packages/dask/config.py:168: YAMLLoadWarning: calling yaml.load() without Loader=... is deprecated, as the default Loader is unsafe. Please read https://msg.pyyaml.org/load for full details.\n",
      "  data = yaml.load(f.read()) or {}\n",
      "/home/bird/miniconda3/envs/ovscrptd/lib/python3.6/site-packages/distributed/config.py:20: YAMLLoadWarning: calling yaml.load() without Loader=... is deprecated, as the default Loader is unsafe. Please read https://msg.pyyaml.org/load for full details.\n",
      "  defaults = yaml.load(f)\n"
     ]
    },
    {
     "data": {
      "text/html": [
       "<table style=\"border: 2px solid white;\">\n",
       "<tr>\n",
       "<td style=\"vertical-align: top; border: 0px solid white\">\n",
       "<h3>Client</h3>\n",
       "<ul>\n",
       "  <li><b>Scheduler: </b>tcp://127.0.0.1:35921\n",
       "  <li><b>Dashboard: </b><a href='http://127.0.0.1:8787/status' target='_blank'>http://127.0.0.1:8787/status</a>\n",
       "</ul>\n",
       "</td>\n",
       "<td style=\"vertical-align: top; border: 0px solid white\">\n",
       "<h3>Cluster</h3>\n",
       "<ul>\n",
       "  <li><b>Workers: </b>4</li>\n",
       "  <li><b>Cores: </b>12</li>\n",
       "  <li><b>Memory: </b>33.35 GB</li>\n",
       "</ul>\n",
       "</td>\n",
       "</tr>\n",
       "</table>"
      ],
      "text/plain": [
       "<Client: scheduler='tcp://127.0.0.1:35921' processes=4 cores=12>"
      ]
     },
     "execution_count": 2,
     "metadata": {},
     "output_type": "execute_result"
    }
   ],
   "source": [
    "import dask.dataframe as dd\n",
    "from dask.distributed import Client\n",
    "\n",
    "Client()"
   ]
  },
  {
   "cell_type": "code",
   "execution_count": 4,
   "metadata": {},
   "outputs": [
    {
     "data": {
      "text/html": [
       "<div>\n",
       "<style scoped>\n",
       "    .dataframe tbody tr th:only-of-type {\n",
       "        vertical-align: middle;\n",
       "    }\n",
       "\n",
       "    .dataframe tbody tr th {\n",
       "        vertical-align: top;\n",
       "    }\n",
       "\n",
       "    .dataframe thead th {\n",
       "        text-align: right;\n",
       "    }\n",
       "</style>\n",
       "<table border=\"1\" class=\"dataframe\">\n",
       "  <thead>\n",
       "    <tr style=\"text-align: right;\">\n",
       "      <th></th>\n",
       "      <th>argument_0</th>\n",
       "      <th>func_name</th>\n",
       "      <th>symbol</th>\n",
       "      <th>location</th>\n",
       "      <th>script_url</th>\n",
       "    </tr>\n",
       "  </thead>\n",
       "  <tbody>\n",
       "    <tr>\n",
       "      <th>0</th>\n",
       "      <td>None</td>\n",
       "      <td>w.fastXDM.Client</td>\n",
       "      <td>window.name</td>\n",
       "      <td>https://vk.com/widget_comments.php?app=2297596...</td>\n",
       "      <td>https://vk.com/js/api/xdm.js?1449919642</td>\n",
       "    </tr>\n",
       "    <tr>\n",
       "      <th>1</th>\n",
       "      <td>None</td>\n",
       "      <td>w.fastXDM.Client</td>\n",
       "      <td>window.name</td>\n",
       "      <td>https://vk.com/widget_comments.php?app=2297596...</td>\n",
       "      <td>https://vk.com/js/api/xdm.js?1449919642</td>\n",
       "    </tr>\n",
       "    <tr>\n",
       "      <th>2</th>\n",
       "      <td>None</td>\n",
       "      <td></td>\n",
       "      <td>window.navigator.userAgent</td>\n",
       "      <td>https://vk.com/widget_comments.php?app=2297596...</td>\n",
       "      <td>https://vk.com/js/al/aes_light.js?592436914</td>\n",
       "    </tr>\n",
       "    <tr>\n",
       "      <th>3</th>\n",
       "      <td>None</td>\n",
       "      <td></td>\n",
       "      <td>window.navigator.userAgent</td>\n",
       "      <td>https://pos.baidu.com/s?hei=70&amp;wid=670&amp;di=u313...</td>\n",
       "      <td>https://cpro.baidustatic.com/cpro/ui/noexpire/...</td>\n",
       "    </tr>\n",
       "    <tr>\n",
       "      <th>4</th>\n",
       "      <td>None</td>\n",
       "      <td>Fd.iterate</td>\n",
       "      <td>window.document.cookie</td>\n",
       "      <td>http://serienjunkies.org/smilf/smilf-season-1-...</td>\n",
       "      <td>https://apis.google.com/js/plusone.js?_=151338...</td>\n",
       "    </tr>\n",
       "  </tbody>\n",
       "</table>\n",
       "</div>"
      ],
      "text/plain": [
       "  argument_0         func_name                      symbol  \\\n",
       "0       None  w.fastXDM.Client                 window.name   \n",
       "1       None  w.fastXDM.Client                 window.name   \n",
       "2       None                    window.navigator.userAgent   \n",
       "3       None                    window.navigator.userAgent   \n",
       "4       None        Fd.iterate      window.document.cookie   \n",
       "\n",
       "                                            location  \\\n",
       "0  https://vk.com/widget_comments.php?app=2297596...   \n",
       "1  https://vk.com/widget_comments.php?app=2297596...   \n",
       "2  https://vk.com/widget_comments.php?app=2297596...   \n",
       "3  https://pos.baidu.com/s?hei=70&wid=670&di=u313...   \n",
       "4  http://serienjunkies.org/smilf/smilf-season-1-...   \n",
       "\n",
       "                                          script_url  \n",
       "0            https://vk.com/js/api/xdm.js?1449919642  \n",
       "1            https://vk.com/js/api/xdm.js?1449919642  \n",
       "2        https://vk.com/js/al/aes_light.js?592436914  \n",
       "3  https://cpro.baidustatic.com/cpro/ui/noexpire/...  \n",
       "4  https://apis.google.com/js/plusone.js?_=151338...  "
      ]
     },
     "execution_count": 4,
     "metadata": {},
     "output_type": "execute_result"
    }
   ],
   "source": [
    "df = dd.read_parquet(\n",
    "    'sample_10percent_value_1000_only.parquet', engine='pyarrow',\n",
    "    columns=['argument_0', 'func_name', 'symbol', 'location', 'script_url']\n",
    ")\n",
    "df.head()"
   ]
  },
  {
   "cell_type": "markdown",
   "metadata": {},
   "source": [
    "Some common string processing tasks:\n",
    "* pulling domains\n",
    "* pulling end of url\n",
    "* building \"grouping\" string\n",
    "* splitting symbol column\n",
    "* finding things in strings"
   ]
  },
  {
   "cell_type": "code",
   "execution_count": 10,
   "metadata": {},
   "outputs": [],
   "source": [
    "from urllib.parse import urlparse\n",
    "from openwpm_utils.domain import get_ps_plus_1\n",
    "\n",
    "EMPTY_STRING = 'EMPTY_STRING'\n",
    "\n",
    "\n",
    "def get_netloc(x):\n",
    "    p = urlparse(x)\n",
    "    val = p.netloc\n",
    "    if len(val) == 0:\n",
    "        val = EMPTY_STRING\n",
    "    return val\n",
    "\n",
    "\n",
    "def get_path(x):\n",
    "    p = urlparse(x)\n",
    "    val = p.path\n",
    "    if len(val) == 0:\n",
    "        val = EMPTY_STRING\n",
    "    return val\n",
    "\n",
    "\n",
    "def get_end_of_path(x):\n",
    "    splits = x.split('/')\n",
    "    val = ''\n",
    "    if len(splits) > 0:\n",
    "        val = splits[-1]\n",
    "    else:\n",
    "        val = x\n",
    "    if len(val) == 0:\n",
    "        val = EMPTY_STRING\n",
    "    return val\n",
    "\n",
    "\n",
    "def get_clean_script(x):\n",
    "    p = urlparse(x)\n",
    "    return f'{p.netloc}{p.path}'"
   ]
  },
  {
   "cell_type": "markdown",
   "metadata": {},
   "source": [
    "#### Build aggregator"
   ]
  },
  {
   "cell_type": "code",
   "execution_count": 11,
   "metadata": {},
   "outputs": [
    {
     "data": {
      "text/html": [
       "<div>\n",
       "<style scoped>\n",
       "    .dataframe tbody tr th:only-of-type {\n",
       "        vertical-align: middle;\n",
       "    }\n",
       "\n",
       "    .dataframe tbody tr th {\n",
       "        vertical-align: top;\n",
       "    }\n",
       "\n",
       "    .dataframe thead th {\n",
       "        text-align: right;\n",
       "    }\n",
       "</style>\n",
       "<table border=\"1\" class=\"dataframe\">\n",
       "  <thead>\n",
       "    <tr style=\"text-align: right;\">\n",
       "      <th></th>\n",
       "      <th>argument_0</th>\n",
       "      <th>func_name</th>\n",
       "      <th>symbol</th>\n",
       "      <th>location</th>\n",
       "      <th>script_url</th>\n",
       "      <th>script_netloc</th>\n",
       "      <th>script_path</th>\n",
       "      <th>script_path_end</th>\n",
       "      <th>agg</th>\n",
       "    </tr>\n",
       "  </thead>\n",
       "  <tbody>\n",
       "    <tr>\n",
       "      <th>0</th>\n",
       "      <td>None</td>\n",
       "      <td>w.fastXDM.Client</td>\n",
       "      <td>window.name</td>\n",
       "      <td>https://vk.com/widget_comments.php?app=2297596...</td>\n",
       "      <td>https://vk.com/js/api/xdm.js?1449919642</td>\n",
       "      <td>vk.com</td>\n",
       "      <td>/js/api/xdm.js</td>\n",
       "      <td>xdm.js</td>\n",
       "      <td>vk.com||xdm.js||w.fastXDM.Client</td>\n",
       "    </tr>\n",
       "    <tr>\n",
       "      <th>1</th>\n",
       "      <td>None</td>\n",
       "      <td>w.fastXDM.Client</td>\n",
       "      <td>window.name</td>\n",
       "      <td>https://vk.com/widget_comments.php?app=2297596...</td>\n",
       "      <td>https://vk.com/js/api/xdm.js?1449919642</td>\n",
       "      <td>vk.com</td>\n",
       "      <td>/js/api/xdm.js</td>\n",
       "      <td>xdm.js</td>\n",
       "      <td>vk.com||xdm.js||w.fastXDM.Client</td>\n",
       "    </tr>\n",
       "    <tr>\n",
       "      <th>2</th>\n",
       "      <td>None</td>\n",
       "      <td></td>\n",
       "      <td>window.navigator.userAgent</td>\n",
       "      <td>https://vk.com/widget_comments.php?app=2297596...</td>\n",
       "      <td>https://vk.com/js/al/aes_light.js?592436914</td>\n",
       "      <td>vk.com</td>\n",
       "      <td>/js/al/aes_light.js</td>\n",
       "      <td>aes_light.js</td>\n",
       "      <td>vk.com||aes_light.js||</td>\n",
       "    </tr>\n",
       "    <tr>\n",
       "      <th>3</th>\n",
       "      <td>None</td>\n",
       "      <td></td>\n",
       "      <td>window.navigator.userAgent</td>\n",
       "      <td>https://pos.baidu.com/s?hei=70&amp;wid=670&amp;di=u313...</td>\n",
       "      <td>https://cpro.baidustatic.com/cpro/ui/noexpire/...</td>\n",
       "      <td>cpro.baidustatic.com</td>\n",
       "      <td>/cpro/ui/noexpire/js/4.0.0/adClosefeedbackUpgr...</td>\n",
       "      <td>adClosefeedbackUpgrade.min.js</td>\n",
       "      <td>cpro.baidustatic.com||adClosefeedbackUpgrade.m...</td>\n",
       "    </tr>\n",
       "    <tr>\n",
       "      <th>4</th>\n",
       "      <td>None</td>\n",
       "      <td>Fd.iterate</td>\n",
       "      <td>window.document.cookie</td>\n",
       "      <td>http://serienjunkies.org/smilf/smilf-season-1-...</td>\n",
       "      <td>https://apis.google.com/js/plusone.js?_=151338...</td>\n",
       "      <td>apis.google.com</td>\n",
       "      <td>/js/plusone.js</td>\n",
       "      <td>plusone.js</td>\n",
       "      <td>apis.google.com||plusone.js||Fd.iterate</td>\n",
       "    </tr>\n",
       "  </tbody>\n",
       "</table>\n",
       "</div>"
      ],
      "text/plain": [
       "  argument_0         func_name                      symbol  \\\n",
       "0       None  w.fastXDM.Client                 window.name   \n",
       "1       None  w.fastXDM.Client                 window.name   \n",
       "2       None                    window.navigator.userAgent   \n",
       "3       None                    window.navigator.userAgent   \n",
       "4       None        Fd.iterate      window.document.cookie   \n",
       "\n",
       "                                            location  \\\n",
       "0  https://vk.com/widget_comments.php?app=2297596...   \n",
       "1  https://vk.com/widget_comments.php?app=2297596...   \n",
       "2  https://vk.com/widget_comments.php?app=2297596...   \n",
       "3  https://pos.baidu.com/s?hei=70&wid=670&di=u313...   \n",
       "4  http://serienjunkies.org/smilf/smilf-season-1-...   \n",
       "\n",
       "                                          script_url         script_netloc  \\\n",
       "0            https://vk.com/js/api/xdm.js?1449919642                vk.com   \n",
       "1            https://vk.com/js/api/xdm.js?1449919642                vk.com   \n",
       "2        https://vk.com/js/al/aes_light.js?592436914                vk.com   \n",
       "3  https://cpro.baidustatic.com/cpro/ui/noexpire/...  cpro.baidustatic.com   \n",
       "4  https://apis.google.com/js/plusone.js?_=151338...       apis.google.com   \n",
       "\n",
       "                                         script_path  \\\n",
       "0                                     /js/api/xdm.js   \n",
       "1                                     /js/api/xdm.js   \n",
       "2                                /js/al/aes_light.js   \n",
       "3  /cpro/ui/noexpire/js/4.0.0/adClosefeedbackUpgr...   \n",
       "4                                     /js/plusone.js   \n",
       "\n",
       "                 script_path_end  \\\n",
       "0                         xdm.js   \n",
       "1                         xdm.js   \n",
       "2                   aes_light.js   \n",
       "3  adClosefeedbackUpgrade.min.js   \n",
       "4                     plusone.js   \n",
       "\n",
       "                                                 agg  \n",
       "0                   vk.com||xdm.js||w.fastXDM.Client  \n",
       "1                   vk.com||xdm.js||w.fastXDM.Client  \n",
       "2                             vk.com||aes_light.js||  \n",
       "3  cpro.baidustatic.com||adClosefeedbackUpgrade.m...  \n",
       "4            apis.google.com||plusone.js||Fd.iterate  "
      ]
     },
     "execution_count": 11,
     "metadata": {},
     "output_type": "execute_result"
    }
   ],
   "source": [
    "df['script_netloc'] = df.script_url.apply(get_netloc, meta=('O'))\n",
    "df['script_path'] = df.script_url.apply(get_path, meta=('O'))\n",
    "df['script_path_end'] = df.script_path.apply(get_end_of_path, meta=('O'))\n",
    "df['agg'] = df.script_netloc + '||' + df.script_path_end + '||' + df.func_name\n",
    "df.head()"
   ]
  },
  {
   "cell_type": "code",
   "execution_count": 12,
   "metadata": {},
   "outputs": [
    {
     "name": "stdout",
     "output_type": "stream",
     "text": [
      "CPU times: user 27 s, sys: 8.27 s, total: 35.3 s\n",
      "Wall time: 2min 42s\n"
     ]
    }
   ],
   "source": [
    "%%time\n",
    "n_unique_aggs = df.agg.nunique().compute()"
   ]
  },
  {
   "cell_type": "code",
   "execution_count": 13,
   "metadata": {},
   "outputs": [
    {
     "data": {
      "text/plain": [
       "185084"
      ]
     },
     "execution_count": 13,
     "metadata": {},
     "output_type": "execute_result"
    }
   ],
   "source": [
    "n_unique_aggs"
   ]
  },
  {
   "cell_type": "markdown",
   "metadata": {},
   "source": [
    "#### Count unique location domains"
   ]
  },
  {
   "cell_type": "code",
   "execution_count": 14,
   "metadata": {},
   "outputs": [
    {
     "data": {
      "text/html": [
       "<div>\n",
       "<style scoped>\n",
       "    .dataframe tbody tr th:only-of-type {\n",
       "        vertical-align: middle;\n",
       "    }\n",
       "\n",
       "    .dataframe tbody tr th {\n",
       "        vertical-align: top;\n",
       "    }\n",
       "\n",
       "    .dataframe thead th {\n",
       "        text-align: right;\n",
       "    }\n",
       "</style>\n",
       "<table border=\"1\" class=\"dataframe\">\n",
       "  <thead>\n",
       "    <tr style=\"text-align: right;\">\n",
       "      <th></th>\n",
       "      <th>location</th>\n",
       "      <th>script_url</th>\n",
       "    </tr>\n",
       "  </thead>\n",
       "  <tbody>\n",
       "    <tr>\n",
       "      <th>0</th>\n",
       "      <td>https://vk.com/widget_comments.php?app=2297596...</td>\n",
       "      <td>https://vk.com/js/api/xdm.js?1449919642</td>\n",
       "    </tr>\n",
       "    <tr>\n",
       "      <th>1</th>\n",
       "      <td>https://vk.com/widget_comments.php?app=2297596...</td>\n",
       "      <td>https://vk.com/js/api/xdm.js?1449919642</td>\n",
       "    </tr>\n",
       "    <tr>\n",
       "      <th>2</th>\n",
       "      <td>https://vk.com/widget_comments.php?app=2297596...</td>\n",
       "      <td>https://vk.com/js/al/aes_light.js?592436914</td>\n",
       "    </tr>\n",
       "    <tr>\n",
       "      <th>3</th>\n",
       "      <td>https://pos.baidu.com/s?hei=70&amp;wid=670&amp;di=u313...</td>\n",
       "      <td>https://cpro.baidustatic.com/cpro/ui/noexpire/...</td>\n",
       "    </tr>\n",
       "    <tr>\n",
       "      <th>4</th>\n",
       "      <td>http://serienjunkies.org/smilf/smilf-season-1-...</td>\n",
       "      <td>https://apis.google.com/js/plusone.js?_=151338...</td>\n",
       "    </tr>\n",
       "  </tbody>\n",
       "</table>\n",
       "</div>"
      ],
      "text/plain": [
       "                                            location  \\\n",
       "0  https://vk.com/widget_comments.php?app=2297596...   \n",
       "1  https://vk.com/widget_comments.php?app=2297596...   \n",
       "2  https://vk.com/widget_comments.php?app=2297596...   \n",
       "3  https://pos.baidu.com/s?hei=70&wid=670&di=u313...   \n",
       "4  http://serienjunkies.org/smilf/smilf-season-1-...   \n",
       "\n",
       "                                          script_url  \n",
       "0            https://vk.com/js/api/xdm.js?1449919642  \n",
       "1            https://vk.com/js/api/xdm.js?1449919642  \n",
       "2        https://vk.com/js/al/aes_light.js?592436914  \n",
       "3  https://cpro.baidustatic.com/cpro/ui/noexpire/...  \n",
       "4  https://apis.google.com/js/plusone.js?_=151338...  "
      ]
     },
     "execution_count": 14,
     "metadata": {},
     "output_type": "execute_result"
    }
   ],
   "source": [
    "df = dd.read_parquet(\n",
    "    'sample_10percent_value_1000_only.parquet', engine='pyarrow',\n",
    "    columns=['location', 'script_url']\n",
    ")\n",
    "df.head()"
   ]
  },
  {
   "cell_type": "code",
   "execution_count": 15,
   "metadata": {},
   "outputs": [
    {
     "data": {
      "text/html": [
       "<div>\n",
       "<style scoped>\n",
       "    .dataframe tbody tr th:only-of-type {\n",
       "        vertical-align: middle;\n",
       "    }\n",
       "\n",
       "    .dataframe tbody tr th {\n",
       "        vertical-align: top;\n",
       "    }\n",
       "\n",
       "    .dataframe thead th {\n",
       "        text-align: right;\n",
       "    }\n",
       "</style>\n",
       "<table border=\"1\" class=\"dataframe\">\n",
       "  <thead>\n",
       "    <tr style=\"text-align: right;\">\n",
       "      <th></th>\n",
       "      <th>location</th>\n",
       "      <th>script_url</th>\n",
       "      <th>location_domain</th>\n",
       "      <th>script_domain</th>\n",
       "    </tr>\n",
       "  </thead>\n",
       "  <tbody>\n",
       "    <tr>\n",
       "      <th>0</th>\n",
       "      <td>https://vk.com/widget_comments.php?app=2297596...</td>\n",
       "      <td>https://vk.com/js/api/xdm.js?1449919642</td>\n",
       "      <td>vk.com</td>\n",
       "      <td>vk.com</td>\n",
       "    </tr>\n",
       "    <tr>\n",
       "      <th>1</th>\n",
       "      <td>https://vk.com/widget_comments.php?app=2297596...</td>\n",
       "      <td>https://vk.com/js/api/xdm.js?1449919642</td>\n",
       "      <td>vk.com</td>\n",
       "      <td>vk.com</td>\n",
       "    </tr>\n",
       "    <tr>\n",
       "      <th>2</th>\n",
       "      <td>https://vk.com/widget_comments.php?app=2297596...</td>\n",
       "      <td>https://vk.com/js/al/aes_light.js?592436914</td>\n",
       "      <td>vk.com</td>\n",
       "      <td>vk.com</td>\n",
       "    </tr>\n",
       "    <tr>\n",
       "      <th>3</th>\n",
       "      <td>https://pos.baidu.com/s?hei=70&amp;wid=670&amp;di=u313...</td>\n",
       "      <td>https://cpro.baidustatic.com/cpro/ui/noexpire/...</td>\n",
       "      <td>baidu.com</td>\n",
       "      <td>baidustatic.com</td>\n",
       "    </tr>\n",
       "    <tr>\n",
       "      <th>4</th>\n",
       "      <td>http://serienjunkies.org/smilf/smilf-season-1-...</td>\n",
       "      <td>https://apis.google.com/js/plusone.js?_=151338...</td>\n",
       "      <td>serienjunkies.org</td>\n",
       "      <td>google.com</td>\n",
       "    </tr>\n",
       "  </tbody>\n",
       "</table>\n",
       "</div>"
      ],
      "text/plain": [
       "                                            location  \\\n",
       "0  https://vk.com/widget_comments.php?app=2297596...   \n",
       "1  https://vk.com/widget_comments.php?app=2297596...   \n",
       "2  https://vk.com/widget_comments.php?app=2297596...   \n",
       "3  https://pos.baidu.com/s?hei=70&wid=670&di=u313...   \n",
       "4  http://serienjunkies.org/smilf/smilf-season-1-...   \n",
       "\n",
       "                                          script_url    location_domain  \\\n",
       "0            https://vk.com/js/api/xdm.js?1449919642             vk.com   \n",
       "1            https://vk.com/js/api/xdm.js?1449919642             vk.com   \n",
       "2        https://vk.com/js/al/aes_light.js?592436914             vk.com   \n",
       "3  https://cpro.baidustatic.com/cpro/ui/noexpire/...          baidu.com   \n",
       "4  https://apis.google.com/js/plusone.js?_=151338...  serienjunkies.org   \n",
       "\n",
       "     script_domain  \n",
       "0           vk.com  \n",
       "1           vk.com  \n",
       "2           vk.com  \n",
       "3  baidustatic.com  \n",
       "4       google.com  "
      ]
     },
     "execution_count": 15,
     "metadata": {},
     "output_type": "execute_result"
    }
   ],
   "source": [
    "df['location_domain'] = df.location.apply(get_ps_plus_1, meta='O')\n",
    "df['script_domain'] = df.script_url.apply(get_ps_plus_1, meta='O')\n",
    "df.head()"
   ]
  },
  {
   "cell_type": "code",
   "execution_count": 16,
   "metadata": {},
   "outputs": [
    {
     "name": "stdout",
     "output_type": "stream",
     "text": [
      "11335\n",
      "CPU times: user 28.8 s, sys: 11.3 s, total: 40.1 s\n",
      "Wall time: 3min 46s\n"
     ]
    }
   ],
   "source": [
    "%%time\n",
    "print(df.location_domain.nunique().compute())"
   ]
  },
  {
   "cell_type": "code",
   "execution_count": 17,
   "metadata": {},
   "outputs": [
    {
     "name": "stdout",
     "output_type": "stream",
     "text": [
      "11641\n",
      "CPU times: user 6.93 s, sys: 5.28 s, total: 12.2 s\n",
      "Wall time: 2min\n"
     ]
    }
   ],
   "source": [
    "%%time\n",
    "print(df.script_domain.nunique().compute())"
   ]
  },
  {
   "cell_type": "markdown",
   "metadata": {},
   "source": [
    "#### Looking for strings"
   ]
  },
  {
   "cell_type": "code",
   "execution_count": 18,
   "metadata": {},
   "outputs": [
    {
     "data": {
      "text/html": [
       "<div>\n",
       "<style scoped>\n",
       "    .dataframe tbody tr th:only-of-type {\n",
       "        vertical-align: middle;\n",
       "    }\n",
       "\n",
       "    .dataframe tbody tr th {\n",
       "        vertical-align: top;\n",
       "    }\n",
       "\n",
       "    .dataframe thead th {\n",
       "        text-align: right;\n",
       "    }\n",
       "</style>\n",
       "<table border=\"1\" class=\"dataframe\">\n",
       "  <thead>\n",
       "    <tr style=\"text-align: right;\">\n",
       "      <th></th>\n",
       "      <th>argument_0</th>\n",
       "      <th>script_url</th>\n",
       "    </tr>\n",
       "  </thead>\n",
       "  <tbody>\n",
       "    <tr>\n",
       "      <th>0</th>\n",
       "      <td>None</td>\n",
       "      <td>https://vk.com/js/api/xdm.js?1449919642</td>\n",
       "    </tr>\n",
       "    <tr>\n",
       "      <th>1</th>\n",
       "      <td>None</td>\n",
       "      <td>https://vk.com/js/api/xdm.js?1449919642</td>\n",
       "    </tr>\n",
       "    <tr>\n",
       "      <th>2</th>\n",
       "      <td>None</td>\n",
       "      <td>https://vk.com/js/al/aes_light.js?592436914</td>\n",
       "    </tr>\n",
       "    <tr>\n",
       "      <th>3</th>\n",
       "      <td>None</td>\n",
       "      <td>https://cpro.baidustatic.com/cpro/ui/noexpire/...</td>\n",
       "    </tr>\n",
       "    <tr>\n",
       "      <th>4</th>\n",
       "      <td>None</td>\n",
       "      <td>https://apis.google.com/js/plusone.js?_=151338...</td>\n",
       "    </tr>\n",
       "  </tbody>\n",
       "</table>\n",
       "</div>"
      ],
      "text/plain": [
       "  argument_0                                         script_url\n",
       "0       None            https://vk.com/js/api/xdm.js?1449919642\n",
       "1       None            https://vk.com/js/api/xdm.js?1449919642\n",
       "2       None        https://vk.com/js/al/aes_light.js?592436914\n",
       "3       None  https://cpro.baidustatic.com/cpro/ui/noexpire/...\n",
       "4       None  https://apis.google.com/js/plusone.js?_=151338..."
      ]
     },
     "execution_count": 18,
     "metadata": {},
     "output_type": "execute_result"
    }
   ],
   "source": [
    "df = dd.read_parquet(\n",
    "    'sample_10percent_value_1000_only.parquet', engine='pyarrow',\n",
    "    columns=['argument_0', 'script_url']\n",
    ")\n",
    "df.head()"
   ]
  },
  {
   "cell_type": "code",
   "execution_count": 22,
   "metadata": {},
   "outputs": [
    {
     "name": "stdout",
     "output_type": "stream",
     "text": [
      "1374\n",
      "CPU times: user 1.39 s, sys: 487 ms, total: 1.88 s\n",
      "Wall time: 4.37 s\n"
     ]
    }
   ],
   "source": [
    "%%time\n",
    "print(df[df.argument_0.str.contains('modernizr')].script_url.nunique().compute())"
   ]
  },
  {
   "cell_type": "markdown",
   "metadata": {},
   "source": [
    "#### Splitting symbol"
   ]
  },
  {
   "cell_type": "code",
   "execution_count": 23,
   "metadata": {},
   "outputs": [
    {
     "data": {
      "text/html": [
       "<div>\n",
       "<style scoped>\n",
       "    .dataframe tbody tr th:only-of-type {\n",
       "        vertical-align: middle;\n",
       "    }\n",
       "\n",
       "    .dataframe tbody tr th {\n",
       "        vertical-align: top;\n",
       "    }\n",
       "\n",
       "    .dataframe thead th {\n",
       "        text-align: right;\n",
       "    }\n",
       "</style>\n",
       "<table border=\"1\" class=\"dataframe\">\n",
       "  <thead>\n",
       "    <tr style=\"text-align: right;\">\n",
       "      <th></th>\n",
       "      <th>argument_0</th>\n",
       "      <th>func_name</th>\n",
       "      <th>symbol</th>\n",
       "      <th>location</th>\n",
       "      <th>script_url</th>\n",
       "    </tr>\n",
       "  </thead>\n",
       "  <tbody>\n",
       "    <tr>\n",
       "      <th>0</th>\n",
       "      <td>None</td>\n",
       "      <td>w.fastXDM.Client</td>\n",
       "      <td>window.name</td>\n",
       "      <td>https://vk.com/widget_comments.php?app=2297596...</td>\n",
       "      <td>https://vk.com/js/api/xdm.js?1449919642</td>\n",
       "    </tr>\n",
       "    <tr>\n",
       "      <th>1</th>\n",
       "      <td>None</td>\n",
       "      <td>w.fastXDM.Client</td>\n",
       "      <td>window.name</td>\n",
       "      <td>https://vk.com/widget_comments.php?app=2297596...</td>\n",
       "      <td>https://vk.com/js/api/xdm.js?1449919642</td>\n",
       "    </tr>\n",
       "    <tr>\n",
       "      <th>2</th>\n",
       "      <td>None</td>\n",
       "      <td></td>\n",
       "      <td>window.navigator.userAgent</td>\n",
       "      <td>https://vk.com/widget_comments.php?app=2297596...</td>\n",
       "      <td>https://vk.com/js/al/aes_light.js?592436914</td>\n",
       "    </tr>\n",
       "    <tr>\n",
       "      <th>3</th>\n",
       "      <td>None</td>\n",
       "      <td></td>\n",
       "      <td>window.navigator.userAgent</td>\n",
       "      <td>https://pos.baidu.com/s?hei=70&amp;wid=670&amp;di=u313...</td>\n",
       "      <td>https://cpro.baidustatic.com/cpro/ui/noexpire/...</td>\n",
       "    </tr>\n",
       "    <tr>\n",
       "      <th>4</th>\n",
       "      <td>None</td>\n",
       "      <td>Fd.iterate</td>\n",
       "      <td>window.document.cookie</td>\n",
       "      <td>http://serienjunkies.org/smilf/smilf-season-1-...</td>\n",
       "      <td>https://apis.google.com/js/plusone.js?_=151338...</td>\n",
       "    </tr>\n",
       "  </tbody>\n",
       "</table>\n",
       "</div>"
      ],
      "text/plain": [
       "  argument_0         func_name                      symbol  \\\n",
       "0       None  w.fastXDM.Client                 window.name   \n",
       "1       None  w.fastXDM.Client                 window.name   \n",
       "2       None                    window.navigator.userAgent   \n",
       "3       None                    window.navigator.userAgent   \n",
       "4       None        Fd.iterate      window.document.cookie   \n",
       "\n",
       "                                            location  \\\n",
       "0  https://vk.com/widget_comments.php?app=2297596...   \n",
       "1  https://vk.com/widget_comments.php?app=2297596...   \n",
       "2  https://vk.com/widget_comments.php?app=2297596...   \n",
       "3  https://pos.baidu.com/s?hei=70&wid=670&di=u313...   \n",
       "4  http://serienjunkies.org/smilf/smilf-season-1-...   \n",
       "\n",
       "                                          script_url  \n",
       "0            https://vk.com/js/api/xdm.js?1449919642  \n",
       "1            https://vk.com/js/api/xdm.js?1449919642  \n",
       "2        https://vk.com/js/al/aes_light.js?592436914  \n",
       "3  https://cpro.baidustatic.com/cpro/ui/noexpire/...  \n",
       "4  https://apis.google.com/js/plusone.js?_=151338...  "
      ]
     },
     "execution_count": 23,
     "metadata": {},
     "output_type": "execute_result"
    }
   ],
   "source": [
    "df = dd.read_parquet(\n",
    "    'sample_10percent_value_1000_only.parquet', engine='pyarrow',\n",
    "    columns=['argument_0', 'func_name', 'symbol', 'location', 'script_url']\n",
    ")\n",
    "df.head()"
   ]
  },
  {
   "cell_type": "code",
   "execution_count": 28,
   "metadata": {},
   "outputs": [
    {
     "data": {
      "text/html": [
       "<div>\n",
       "<style scoped>\n",
       "    .dataframe tbody tr th:only-of-type {\n",
       "        vertical-align: middle;\n",
       "    }\n",
       "\n",
       "    .dataframe tbody tr th {\n",
       "        vertical-align: top;\n",
       "    }\n",
       "\n",
       "    .dataframe thead th {\n",
       "        text-align: right;\n",
       "    }\n",
       "</style>\n",
       "<table border=\"1\" class=\"dataframe\">\n",
       "  <thead>\n",
       "    <tr style=\"text-align: right;\">\n",
       "      <th></th>\n",
       "      <th>argument_0</th>\n",
       "      <th>func_name</th>\n",
       "      <th>symbol</th>\n",
       "      <th>location</th>\n",
       "      <th>script_url</th>\n",
       "      <th>symbol_parts</th>\n",
       "      <th>symbol_0</th>\n",
       "      <th>symbol_1</th>\n",
       "      <th>symbol_2</th>\n",
       "    </tr>\n",
       "  </thead>\n",
       "  <tbody>\n",
       "    <tr>\n",
       "      <th>0</th>\n",
       "      <td>None</td>\n",
       "      <td>w.fastXDM.Client</td>\n",
       "      <td>window.name</td>\n",
       "      <td>https://vk.com/widget_comments.php?app=2297596...</td>\n",
       "      <td>https://vk.com/js/api/xdm.js?1449919642</td>\n",
       "      <td>[window, name]</td>\n",
       "      <td>window</td>\n",
       "      <td>name</td>\n",
       "      <td>NaN</td>\n",
       "    </tr>\n",
       "    <tr>\n",
       "      <th>1</th>\n",
       "      <td>None</td>\n",
       "      <td>w.fastXDM.Client</td>\n",
       "      <td>window.name</td>\n",
       "      <td>https://vk.com/widget_comments.php?app=2297596...</td>\n",
       "      <td>https://vk.com/js/api/xdm.js?1449919642</td>\n",
       "      <td>[window, name]</td>\n",
       "      <td>window</td>\n",
       "      <td>name</td>\n",
       "      <td>NaN</td>\n",
       "    </tr>\n",
       "    <tr>\n",
       "      <th>2</th>\n",
       "      <td>None</td>\n",
       "      <td></td>\n",
       "      <td>window.navigator.userAgent</td>\n",
       "      <td>https://vk.com/widget_comments.php?app=2297596...</td>\n",
       "      <td>https://vk.com/js/al/aes_light.js?592436914</td>\n",
       "      <td>[window, navigator, userAgent]</td>\n",
       "      <td>window</td>\n",
       "      <td>navigator</td>\n",
       "      <td>userAgent</td>\n",
       "    </tr>\n",
       "    <tr>\n",
       "      <th>3</th>\n",
       "      <td>None</td>\n",
       "      <td></td>\n",
       "      <td>window.navigator.userAgent</td>\n",
       "      <td>https://pos.baidu.com/s?hei=70&amp;wid=670&amp;di=u313...</td>\n",
       "      <td>https://cpro.baidustatic.com/cpro/ui/noexpire/...</td>\n",
       "      <td>[window, navigator, userAgent]</td>\n",
       "      <td>window</td>\n",
       "      <td>navigator</td>\n",
       "      <td>userAgent</td>\n",
       "    </tr>\n",
       "    <tr>\n",
       "      <th>4</th>\n",
       "      <td>None</td>\n",
       "      <td>Fd.iterate</td>\n",
       "      <td>window.document.cookie</td>\n",
       "      <td>http://serienjunkies.org/smilf/smilf-season-1-...</td>\n",
       "      <td>https://apis.google.com/js/plusone.js?_=151338...</td>\n",
       "      <td>[window, document, cookie]</td>\n",
       "      <td>window</td>\n",
       "      <td>document</td>\n",
       "      <td>cookie</td>\n",
       "    </tr>\n",
       "  </tbody>\n",
       "</table>\n",
       "</div>"
      ],
      "text/plain": [
       "  argument_0         func_name                      symbol  \\\n",
       "0       None  w.fastXDM.Client                 window.name   \n",
       "1       None  w.fastXDM.Client                 window.name   \n",
       "2       None                    window.navigator.userAgent   \n",
       "3       None                    window.navigator.userAgent   \n",
       "4       None        Fd.iterate      window.document.cookie   \n",
       "\n",
       "                                            location  \\\n",
       "0  https://vk.com/widget_comments.php?app=2297596...   \n",
       "1  https://vk.com/widget_comments.php?app=2297596...   \n",
       "2  https://vk.com/widget_comments.php?app=2297596...   \n",
       "3  https://pos.baidu.com/s?hei=70&wid=670&di=u313...   \n",
       "4  http://serienjunkies.org/smilf/smilf-season-1-...   \n",
       "\n",
       "                                          script_url  \\\n",
       "0            https://vk.com/js/api/xdm.js?1449919642   \n",
       "1            https://vk.com/js/api/xdm.js?1449919642   \n",
       "2        https://vk.com/js/al/aes_light.js?592436914   \n",
       "3  https://cpro.baidustatic.com/cpro/ui/noexpire/...   \n",
       "4  https://apis.google.com/js/plusone.js?_=151338...   \n",
       "\n",
       "                     symbol_parts symbol_0   symbol_1   symbol_2  \n",
       "0                  [window, name]   window       name        NaN  \n",
       "1                  [window, name]   window       name        NaN  \n",
       "2  [window, navigator, userAgent]   window  navigator  userAgent  \n",
       "3  [window, navigator, userAgent]   window  navigator  userAgent  \n",
       "4      [window, document, cookie]   window   document     cookie  "
      ]
     },
     "execution_count": 28,
     "metadata": {},
     "output_type": "execute_result"
    }
   ],
   "source": [
    "df['symbol_parts'] = df.symbol.str.split('.')\n",
    "df['symbol_0'] = df.symbol_parts.str.get(0)\n",
    "df['symbol_1'] = df.symbol_parts.str.get(1)\n",
    "df['symbol_2'] = df.symbol_parts.str.get(2)\n",
    "df.head()"
   ]
  },
  {
   "cell_type": "code",
   "execution_count": 30,
   "metadata": {},
   "outputs": [
    {
     "name": "stdout",
     "output_type": "stream",
     "text": [
      "302\n",
      "CPU times: user 27.1 s, sys: 7.46 s, total: 34.5 s\n",
      "Wall time: 2min 7s\n"
     ]
    }
   ],
   "source": [
    "%%time\n",
    "print(df[df.symbol_1 == 'fillText'].func_name.nunique().compute())"
   ]
  },
  {
   "cell_type": "markdown",
   "metadata": {},
   "source": []
  }
 ],
 "metadata": {
  "kernelspec": {
   "display_name": "Python 3",
   "language": "python",
   "name": "python3"
  },
  "language_info": {
   "codemirror_mode": {
    "name": "ipython",
    "version": 3
   },
   "file_extension": ".py",
   "mimetype": "text/x-python",
   "name": "python",
   "nbconvert_exporter": "python",
   "pygments_lexer": "ipython3",
   "version": "3.6.7"
  }
 },
 "nbformat": 4,
 "nbformat_minor": 2
}
