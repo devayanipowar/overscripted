{
 "cells": [
  {
   "cell_type": "markdown",
   "metadata": {},
   "source": [
    "# Understanding Browser Fingerprinting\n",
    "\n",
    "Browser fingerprinting is a way of recognizing various attributes of a browser using the specific feature information like the type of font used or even a trivial thing like the type of emoji. It has its own pros and cons: If the goal is to protect uniqueness of a individual then it works fine in the case when an individual needs to be recognized to eliminate foul play but if the goal is mere advertisements then it can affect the privacy of a individual in a negative aspect. There have been various projects related to this genre which have worked to find which features are most important to recognize a specific website. Some of them which I went through are Panopticlick, AmIUnique.org, slido and Erik Flood and Joel Karlsson. Browser fingerprinting. 2012.\n",
    "\n"
   ]
  },
  {
   "cell_type": "code",
   "execution_count": 1,
   "metadata": {},
   "outputs": [
    {
     "data": {
      "text/html": [
       "<table style=\"border: 2px solid white;\">\n",
       "<tr>\n",
       "<td style=\"vertical-align: top; border: 0px solid white\">\n",
       "<h3>Client</h3>\n",
       "<ul>\n",
       "  <li><b>Scheduler: </b>tcp://127.0.0.1:5480\n",
       "  <li><b>Dashboard: </b><a href='http://127.0.0.1:8787' target='_blank'>http://127.0.0.1:8787</a>\n",
       "</ul>\n",
       "</td>\n",
       "<td style=\"vertical-align: top; border: 0px solid white\">\n",
       "<h3>Cluster</h3>\n",
       "<ul>\n",
       "  <li><b>Workers: </b>4</li>\n",
       "  <li><b>Cores: </b>4</li>\n",
       "  <li><b>Memory: </b>8.50 GB</li>\n",
       "</ul>\n",
       "</td>\n",
       "</tr>\n",
       "</table>"
      ],
      "text/plain": [
       "<Client: scheduler='tcp://127.0.0.1:5480' processes=4 cores=4>"
      ]
     },
     "execution_count": 1,
     "metadata": {},
     "output_type": "execute_result"
    }
   ],
   "source": [
    "from dask.distributed import Client,progress\n",
    "Client()\n"
   ]
  },
  {
   "cell_type": "code",
   "execution_count": 2,
   "metadata": {
    "scrolled": true
   },
   "outputs": [],
   "source": [
    "import dask.dataframe as dd\n",
    "from dask.diagnostics import ProgressBar\n"
   ]
  },
  {
   "cell_type": "code",
   "execution_count": 3,
   "metadata": {},
   "outputs": [],
   "source": [
    "import tldextract\n",
    "\n",
    "#DATA_DIR = 'sample_10percent_value_1000_only.parquet'\n",
    "\n",
    "def extract_domain(url):\n",
    "    \"\"\"Use tldextract to return the base domain from a url\"\"\"\n",
    "    try:\n",
    "        extracted = tldextract.extract(url)\n",
    "        return '{}.{}'.format(extracted.domain, extracted.suffix)\n",
    "    except Exception as e:\n",
    "        return 'ERROR'"
   ]
  },
  {
   "cell_type": "markdown",
   "metadata": {},
   "source": [
    "# Feature Evaluation\n",
    "\n",
    "Based on my learning's I decided to further dive in features : \" location, script-url, symbol and value1000'. On the basis of initial analysis I could understand that we can extract additional features from the script-url attribute with respect to symbol and value attribute. As various rows of location contained same urls but different symbol values which could uncover various important elements like font used through canvas fingerprinting , audio fingerprinting , Plugins used , screen size, useragent etc \n",
    "Based on features like font and in_iframe with respect to the scripts we would decide if a script would be blocked by adblock. \n"
   ]
  },
  {
   "cell_type": "code",
   "execution_count": 15,
   "metadata": {},
   "outputs": [],
   "source": [
    "#df = dd.read_parquet('sample_10percent_value_1000_only.parquet', engine='pyarrow',columns=['argument_0', 'func_name','in_iframe', 'location', 'script_url', 'symbol', 'time_stamp', 'value_1000'])"
   ]
  },
  {
   "cell_type": "markdown",
   "metadata": {},
   "source": [
    "Trying to use only one part to analyse"
   ]
  },
  {
   "cell_type": "code",
   "execution_count": 4,
   "metadata": {},
   "outputs": [],
   "source": [
    "df = dd.read_parquet('sample_10percent_value_1000_only.parquet\\part.10.parquet', engine='pyarrow',columns=['argument_0', 'func_name','in_iframe', 'location', 'operation','script_url', 'symbol', 'time_stamp', 'value_1000'])"
   ]
  },
  {
   "cell_type": "code",
   "execution_count": 64,
   "metadata": {},
   "outputs": [
    {
     "data": {
      "text/html": [
       "<div>\n",
       "<style scoped>\n",
       "    .dataframe tbody tr th:only-of-type {\n",
       "        vertical-align: middle;\n",
       "    }\n",
       "\n",
       "    .dataframe tbody tr th {\n",
       "        vertical-align: top;\n",
       "    }\n",
       "\n",
       "    .dataframe thead th {\n",
       "        text-align: right;\n",
       "    }\n",
       "</style>\n",
       "<table border=\"1\" class=\"dataframe\">\n",
       "  <thead>\n",
       "    <tr style=\"text-align: right;\">\n",
       "      <th></th>\n",
       "      <th>argument_0</th>\n",
       "      <th>func_name</th>\n",
       "      <th>in_iframe</th>\n",
       "      <th>location</th>\n",
       "      <th>operation</th>\n",
       "      <th>script_url</th>\n",
       "      <th>symbol</th>\n",
       "      <th>time_stamp</th>\n",
       "      <th>value_1000</th>\n",
       "    </tr>\n",
       "  </thead>\n",
       "  <tbody>\n",
       "    <tr>\n",
       "      <th>0</th>\n",
       "      <td>None</td>\n",
       "      <td>__nr_require&lt;.loader&lt;</td>\n",
       "      <td>False</td>\n",
       "      <td>https://www.jumia.ma/soin-du-visage/</td>\n",
       "      <td>get</td>\n",
       "      <td>https://www.jumia.ma/soin-du-visage/</td>\n",
       "      <td>window.navigator.userAgent</td>\n",
       "      <td>2017-12-16 13:26:28.589</td>\n",
       "      <td>Mozilla/5.0 (X11; Linux x86_64; rv:52.0) Gecko...</td>\n",
       "    </tr>\n",
       "    <tr>\n",
       "      <th>1</th>\n",
       "      <td>None</td>\n",
       "      <td>__nr_require&lt;[1]&lt;</td>\n",
       "      <td>False</td>\n",
       "      <td>https://www.jumia.ma/soin-du-visage/</td>\n",
       "      <td>get</td>\n",
       "      <td>https://www.jumia.ma/soin-du-visage/</td>\n",
       "      <td>window.localStorage</td>\n",
       "      <td>2017-12-16 13:26:28.594</td>\n",
       "      <td>{}</td>\n",
       "    </tr>\n",
       "    <tr>\n",
       "      <th>2</th>\n",
       "      <td>__nr_flags</td>\n",
       "      <td>__nr_require&lt;[1]&lt;</td>\n",
       "      <td>False</td>\n",
       "      <td>https://www.jumia.ma/soin-du-visage/</td>\n",
       "      <td>call</td>\n",
       "      <td>https://www.jumia.ma/soin-du-visage/</td>\n",
       "      <td>window.Storage.getItem</td>\n",
       "      <td>2017-12-16 13:26:28.595</td>\n",
       "      <td></td>\n",
       "    </tr>\n",
       "    <tr>\n",
       "      <th>3</th>\n",
       "      <td>None</td>\n",
       "      <td>__nr_require&lt;[14]&lt;</td>\n",
       "      <td>False</td>\n",
       "      <td>https://www.jumia.ma/soin-du-visage/</td>\n",
       "      <td>get</td>\n",
       "      <td>https://www.jumia.ma/soin-du-visage/</td>\n",
       "      <td>window.navigator.userAgent</td>\n",
       "      <td>2017-12-16 13:26:28.598</td>\n",
       "      <td>Mozilla/5.0 (X11; Linux x86_64; rv:52.0) Gecko...</td>\n",
       "    </tr>\n",
       "    <tr>\n",
       "      <th>4</th>\n",
       "      <td>None</td>\n",
       "      <td>n</td>\n",
       "      <td>False</td>\n",
       "      <td>https://www.jumia.ma/soin-du-visage/</td>\n",
       "      <td>get</td>\n",
       "      <td>https://www.jumia.ma/scripts/common_desktop.99...</td>\n",
       "      <td>window.localStorage</td>\n",
       "      <td>2017-12-16 13:26:29.267</td>\n",
       "      <td>{}</td>\n",
       "    </tr>\n",
       "  </tbody>\n",
       "</table>\n",
       "</div>"
      ],
      "text/plain": [
       "   argument_0              func_name  in_iframe  \\\n",
       "0        None  __nr_require<.loader<      False   \n",
       "1        None      __nr_require<[1]<      False   \n",
       "2  __nr_flags      __nr_require<[1]<      False   \n",
       "3        None     __nr_require<[14]<      False   \n",
       "4        None                      n      False   \n",
       "\n",
       "                               location operation  \\\n",
       "0  https://www.jumia.ma/soin-du-visage/       get   \n",
       "1  https://www.jumia.ma/soin-du-visage/       get   \n",
       "2  https://www.jumia.ma/soin-du-visage/      call   \n",
       "3  https://www.jumia.ma/soin-du-visage/       get   \n",
       "4  https://www.jumia.ma/soin-du-visage/       get   \n",
       "\n",
       "                                          script_url  \\\n",
       "0               https://www.jumia.ma/soin-du-visage/   \n",
       "1               https://www.jumia.ma/soin-du-visage/   \n",
       "2               https://www.jumia.ma/soin-du-visage/   \n",
       "3               https://www.jumia.ma/soin-du-visage/   \n",
       "4  https://www.jumia.ma/scripts/common_desktop.99...   \n",
       "\n",
       "                       symbol              time_stamp  \\\n",
       "0  window.navigator.userAgent 2017-12-16 13:26:28.589   \n",
       "1         window.localStorage 2017-12-16 13:26:28.594   \n",
       "2      window.Storage.getItem 2017-12-16 13:26:28.595   \n",
       "3  window.navigator.userAgent 2017-12-16 13:26:28.598   \n",
       "4         window.localStorage 2017-12-16 13:26:29.267   \n",
       "\n",
       "                                          value_1000  \n",
       "0  Mozilla/5.0 (X11; Linux x86_64; rv:52.0) Gecko...  \n",
       "1                                                 {}  \n",
       "2                                                     \n",
       "3  Mozilla/5.0 (X11; Linux x86_64; rv:52.0) Gecko...  \n",
       "4                                                 {}  "
      ]
     },
     "execution_count": 64,
     "metadata": {},
     "output_type": "execute_result"
    }
   ],
   "source": [
    "#df.head()\n",
    "df.head()\n"
   ]
  },
  {
   "cell_type": "code",
   "execution_count": 5,
   "metadata": {},
   "outputs": [
    {
     "name": "stderr",
     "output_type": "stream",
     "text": [
      "C:\\anaconda\\lib\\site-packages\\statsmodels\\compat\\pandas.py:56: FutureWarning: The pandas.core.datetools module is deprecated and will be removed in a future version. Please use the pandas.tseries module instead.\n",
      "  from pandas.core import datetools\n"
     ]
    }
   ],
   "source": [
    "import pandas as pd\n",
    "import numpy as np\n",
    "import matplotlib \n",
    "import os\n",
    "import matplotlib.pyplot as plt\n",
    "import seaborn as sns\n",
    "import statsmodels.api as sm\n",
    "%matplotlib inline\n",
    "from sklearn.model_selection import train_test_split\n",
    "from sklearn.linear_model import LinearRegression\n",
    "from sklearn.feature_selection import RFE\n",
    "from sklearn.linear_model import RidgeCV, LassoCV, Ridge, Lasso\n"
   ]
  },
  {
   "cell_type": "markdown",
   "metadata": {},
   "source": [
    "I used the string processing functions from the repository:"
   ]
  },
  {
   "cell_type": "code",
   "execution_count": 6,
   "metadata": {
    "scrolled": true
   },
   "outputs": [],
   "source": [
    "from urllib.parse import urlparse\n",
    "\n",
    "EMPTY_STRING = 'EMPTY_STRING'\n",
    "\n",
    "\n",
    "def get_netloc(x):\n",
    "    p = urlparse(x)\n",
    "    val = p.netloc\n",
    "    if len(val) == 0:\n",
    "        val = EMPTY_STRING\n",
    "    return val\n",
    "\n",
    "\n",
    "def get_path(x):\n",
    "    p = urlparse(x)\n",
    "    val = p.path\n",
    "    if len(val) == 0:\n",
    "        val = EMPTY_STRING\n",
    "    return val\n",
    "\n",
    "\n",
    "def get_end_of_path(x):\n",
    "    splits = x.split('/')\n",
    "    val = ''\n",
    "    if len(splits) > 0:\n",
    "        val = splits[-1]\n",
    "    else:\n",
    "        val = x\n",
    "    if len(val) == 0:\n",
    "        val = EMPTY_STRING\n",
    "    return val\n",
    "\n",
    "\n",
    "def get_clean_script(x):\n",
    "    p = urlparse(x)\n",
    "    return f'{p.netloc}{p.path}'\n"
   ]
  },
  {
   "cell_type": "markdown",
   "metadata": {},
   "source": [
    "In order to extract the features I segregated the location and script_domain as well as the symbols into subparts. This way I could get the locations and scripts with various features aggregated together."
   ]
  },
  {
   "cell_type": "code",
   "execution_count": 27,
   "metadata": {
    "scrolled": true
   },
   "outputs": [],
   "source": [
    "df['script_netloc'] = df.script_url.apply(get_netloc, meta=('O'))\n",
    "df['script_path'] = df.script_url.apply(get_path, meta=('O'))\n",
    "df['script_path_end'] = df.script_path.apply(get_end_of_path, meta=('O'))\n",
    "#df['agg'] = df.script_netloc + '||' + df.script_path_end + '||' + df.func_name\n",
    "df['location_domain'] = df.location.apply(extract_domain, meta=('x', 'str'))\n",
    "\n",
    "df['location_base_url'] = df.location.apply(get_netloc, meta=('x', 'str'))\n",
    "df['script_domain'] = df.script_url.apply(extract_domain, meta=('x', 'str'))\n",
    "\n",
    "\n"
   ]
  },
  {
   "cell_type": "code",
   "execution_count": 7,
   "metadata": {
    "scrolled": true
   },
   "outputs": [
    {
     "data": {
      "text/html": [
       "<div>\n",
       "<style scoped>\n",
       "    .dataframe tbody tr th:only-of-type {\n",
       "        vertical-align: middle;\n",
       "    }\n",
       "\n",
       "    .dataframe tbody tr th {\n",
       "        vertical-align: top;\n",
       "    }\n",
       "\n",
       "    .dataframe thead th {\n",
       "        text-align: right;\n",
       "    }\n",
       "</style>\n",
       "<table border=\"1\" class=\"dataframe\">\n",
       "  <thead>\n",
       "    <tr style=\"text-align: right;\">\n",
       "      <th></th>\n",
       "      <th>argument_0</th>\n",
       "      <th>func_name</th>\n",
       "      <th>in_iframe</th>\n",
       "      <th>location</th>\n",
       "      <th>operation</th>\n",
       "      <th>script_url</th>\n",
       "      <th>symbol</th>\n",
       "      <th>time_stamp</th>\n",
       "      <th>value_1000</th>\n",
       "      <th>symbol_parts</th>\n",
       "      <th>symbol_0</th>\n",
       "      <th>symbol_1</th>\n",
       "      <th>symbol_2</th>\n",
       "    </tr>\n",
       "  </thead>\n",
       "  <tbody>\n",
       "    <tr>\n",
       "      <th>0</th>\n",
       "      <td>None</td>\n",
       "      <td>__nr_require&lt;.loader&lt;</td>\n",
       "      <td>False</td>\n",
       "      <td>https://www.jumia.ma/soin-du-visage/</td>\n",
       "      <td>get</td>\n",
       "      <td>https://www.jumia.ma/soin-du-visage/</td>\n",
       "      <td>window.navigator.userAgent</td>\n",
       "      <td>2017-12-16 13:26:28.589</td>\n",
       "      <td>Mozilla/5.0 (X11; Linux x86_64; rv:52.0) Gecko...</td>\n",
       "      <td>[window, navigator, userAgent]</td>\n",
       "      <td>window</td>\n",
       "      <td>navigator</td>\n",
       "      <td>userAgent</td>\n",
       "    </tr>\n",
       "    <tr>\n",
       "      <th>1</th>\n",
       "      <td>None</td>\n",
       "      <td>__nr_require&lt;[1]&lt;</td>\n",
       "      <td>False</td>\n",
       "      <td>https://www.jumia.ma/soin-du-visage/</td>\n",
       "      <td>get</td>\n",
       "      <td>https://www.jumia.ma/soin-du-visage/</td>\n",
       "      <td>window.localStorage</td>\n",
       "      <td>2017-12-16 13:26:28.594</td>\n",
       "      <td>{}</td>\n",
       "      <td>[window, localStorage]</td>\n",
       "      <td>window</td>\n",
       "      <td>localStorage</td>\n",
       "      <td>NaN</td>\n",
       "    </tr>\n",
       "    <tr>\n",
       "      <th>2</th>\n",
       "      <td>__nr_flags</td>\n",
       "      <td>__nr_require&lt;[1]&lt;</td>\n",
       "      <td>False</td>\n",
       "      <td>https://www.jumia.ma/soin-du-visage/</td>\n",
       "      <td>call</td>\n",
       "      <td>https://www.jumia.ma/soin-du-visage/</td>\n",
       "      <td>window.Storage.getItem</td>\n",
       "      <td>2017-12-16 13:26:28.595</td>\n",
       "      <td></td>\n",
       "      <td>[window, Storage, getItem]</td>\n",
       "      <td>window</td>\n",
       "      <td>Storage</td>\n",
       "      <td>getItem</td>\n",
       "    </tr>\n",
       "    <tr>\n",
       "      <th>3</th>\n",
       "      <td>None</td>\n",
       "      <td>__nr_require&lt;[14]&lt;</td>\n",
       "      <td>False</td>\n",
       "      <td>https://www.jumia.ma/soin-du-visage/</td>\n",
       "      <td>get</td>\n",
       "      <td>https://www.jumia.ma/soin-du-visage/</td>\n",
       "      <td>window.navigator.userAgent</td>\n",
       "      <td>2017-12-16 13:26:28.598</td>\n",
       "      <td>Mozilla/5.0 (X11; Linux x86_64; rv:52.0) Gecko...</td>\n",
       "      <td>[window, navigator, userAgent]</td>\n",
       "      <td>window</td>\n",
       "      <td>navigator</td>\n",
       "      <td>userAgent</td>\n",
       "    </tr>\n",
       "    <tr>\n",
       "      <th>4</th>\n",
       "      <td>None</td>\n",
       "      <td>n</td>\n",
       "      <td>False</td>\n",
       "      <td>https://www.jumia.ma/soin-du-visage/</td>\n",
       "      <td>get</td>\n",
       "      <td>https://www.jumia.ma/scripts/common_desktop.99...</td>\n",
       "      <td>window.localStorage</td>\n",
       "      <td>2017-12-16 13:26:29.267</td>\n",
       "      <td>{}</td>\n",
       "      <td>[window, localStorage]</td>\n",
       "      <td>window</td>\n",
       "      <td>localStorage</td>\n",
       "      <td>NaN</td>\n",
       "    </tr>\n",
       "  </tbody>\n",
       "</table>\n",
       "</div>"
      ],
      "text/plain": [
       "   argument_0              func_name  in_iframe  \\\n",
       "0        None  __nr_require<.loader<      False   \n",
       "1        None      __nr_require<[1]<      False   \n",
       "2  __nr_flags      __nr_require<[1]<      False   \n",
       "3        None     __nr_require<[14]<      False   \n",
       "4        None                      n      False   \n",
       "\n",
       "                               location operation  \\\n",
       "0  https://www.jumia.ma/soin-du-visage/       get   \n",
       "1  https://www.jumia.ma/soin-du-visage/       get   \n",
       "2  https://www.jumia.ma/soin-du-visage/      call   \n",
       "3  https://www.jumia.ma/soin-du-visage/       get   \n",
       "4  https://www.jumia.ma/soin-du-visage/       get   \n",
       "\n",
       "                                          script_url  \\\n",
       "0               https://www.jumia.ma/soin-du-visage/   \n",
       "1               https://www.jumia.ma/soin-du-visage/   \n",
       "2               https://www.jumia.ma/soin-du-visage/   \n",
       "3               https://www.jumia.ma/soin-du-visage/   \n",
       "4  https://www.jumia.ma/scripts/common_desktop.99...   \n",
       "\n",
       "                       symbol              time_stamp  \\\n",
       "0  window.navigator.userAgent 2017-12-16 13:26:28.589   \n",
       "1         window.localStorage 2017-12-16 13:26:28.594   \n",
       "2      window.Storage.getItem 2017-12-16 13:26:28.595   \n",
       "3  window.navigator.userAgent 2017-12-16 13:26:28.598   \n",
       "4         window.localStorage 2017-12-16 13:26:29.267   \n",
       "\n",
       "                                          value_1000  \\\n",
       "0  Mozilla/5.0 (X11; Linux x86_64; rv:52.0) Gecko...   \n",
       "1                                                 {}   \n",
       "2                                                      \n",
       "3  Mozilla/5.0 (X11; Linux x86_64; rv:52.0) Gecko...   \n",
       "4                                                 {}   \n",
       "\n",
       "                     symbol_parts symbol_0      symbol_1   symbol_2  \n",
       "0  [window, navigator, userAgent]   window     navigator  userAgent  \n",
       "1          [window, localStorage]   window  localStorage        NaN  \n",
       "2      [window, Storage, getItem]   window       Storage    getItem  \n",
       "3  [window, navigator, userAgent]   window     navigator  userAgent  \n",
       "4          [window, localStorage]   window  localStorage        NaN  "
      ]
     },
     "execution_count": 7,
     "metadata": {},
     "output_type": "execute_result"
    }
   ],
   "source": [
    "df['symbol_parts'] = df.symbol.str.split('.')\n",
    "df['symbol_0'] = df.symbol_parts.str.get(0)\n",
    "df['symbol_1'] = df.symbol_parts.str.get(1)\n",
    "df['symbol_2'] = df.symbol_parts.str.get(2)\n",
    "df.head()"
   ]
  },
  {
   "cell_type": "markdown",
   "metadata": {},
   "source": [
    "Using a specific location or script_url, I tried to find out various features that can be analysed from the symbol column like plugin, userAgent, language, plugins etc. Some initial analysis I observed:\n",
    "\n",
    "- Symbols are classified in 4 types : Window, HTMLcanvasElement,RTCPeerconnection,CanvasRenderingContext2D which can be further digged in order to find relationships between various attributes.\n",
    "- Fingerprint2.js script has valid font value from which we can imply that the scripts which have valid font and plugin values have high probability of being a fingerprinting script.\n",
    "- This dataset doesnot contain useragents from different mediums so we cannot analyze which medium is more vulnerable and why\n",
    "- If we would have timestamps with different formats that can too affect the browser identification.\n",
    "- When in_iframe is true we can imply that there is a possibility of a fingerprinting script.\n",
    "- Some values have \"Cwm fjordbank glyphs vext quiz\" which is mentioned in various paper to be associated with canvas fingerprinting. This is said to be used to uniquely identify a browser almost accurately. If a mobile phone is considered , emojis are also considered as a significant trait to know about a browser as every mobile has unique way of representing its emojis. "
   ]
  },
  {
   "cell_type": "code",
   "execution_count": 11,
   "metadata": {},
   "outputs": [],
   "source": [
    "#win_df = df[df.]\n",
    "#win_urls = win_df.location.unique().persist()\n",
    "#progress(win_urls, notebook=False)\n",
    "#len(win_df)\n"
   ]
  },
  {
   "cell_type": "markdown",
   "metadata": {},
   "source": [
    "Further, using the string operations mentioned in issue_36 we can find significant factors that could tell us how a browser is recognized\n",
    "- location : http://ca.puma.com/en_CA/kids\t\n",
    "- window.navigator.language : en-US\n",
    "- window.navigator.plugins[Shockwave Flash].name: Shockwave Flash 28.0 r0\n",
    "- window.Storage.length : 0\n",
    "- window.screen.pixelDepth :24\n",
    "- window.screen.colorDepth :24\n",
    "- window.navigator.platform :Linux x86_64\n",
    "- window.navigator.doNotTrack :unspecified\n",
    "- window.navigator.userAgent: Mozilla/5.0 (X11; Linux x86_64; rv:52.0) Gecko/20100101 Firefox/52.0\n",
    "- Time_stamp\t: 12/16/2017  3:46:19 AM\n",
    "\n",
    "## Audio fingerprint aspect\n",
    "\n",
    "OfflineAudioContex/AudioContext\n",
    "- createOscillator\n",
    "- createDynamicsCompressor\n",
    "- destination\n",
    "- startRendering\n",
    "- oncomplete\n",
    "\n",
    "\n",
    "## Canvas fingerprinting aspect\n",
    "CanvasRenderingContext2D\n",
    "- font\n",
    "- getImagedata\n",
    "- Fill/fillstyle\n",
    "- globalcompositionoperation\n",
    "\n",
    "HTMLCanvasElement\n",
    "- Height,width,style,draggable\n"
   ]
  },
  {
   "cell_type": "markdown",
   "metadata": {},
   "source": [
    "The initial process is to consider a certain script_url and its corresponding features like pulgin, font, language , screen size. We consider individual symbol calls that includes window, HTMLCanvasElement, RTCPeerConnection, CanvasRenderingContext2D. "
   ]
  },
  {
   "cell_type": "code",
   "execution_count": 11,
   "metadata": {},
   "outputs": [
    {
     "name": "stdout",
     "output_type": "stream",
     "text": [
      "[########################################] | 100% Completed |  0.0s # Total window occurences 35417\n",
      " # unique window occurences 1498\n"
     ]
    }
   ],
   "source": [
    "win_df = df[df.symbol_0 == 'window']\n",
    "win_urls = win_df.script_url.unique().persist()\n",
    "progress(win_urls, notebook=False)\n",
    "print(' # Total window occurences',len(win_df))\n",
    "print(' # unique window occurences',len(win_urls))"
   ]
  },
  {
   "cell_type": "code",
   "execution_count": 16,
   "metadata": {},
   "outputs": [
    {
     "name": "stdout",
     "output_type": "stream",
     "text": [
      "[########################################] | 100% Completed |  0.1s # Total HTMLCanvasElement occurences 856\n",
      " # unique HTMLCanvasElement occurences 57\n"
     ]
    }
   ],
   "source": [
    "html_df = df[df.symbol_0 == 'HTMLCanvasElement']\n",
    "html_urls =html_df.script_url.unique().persist()\n",
    "progress(html_urls, notebook=False)\n",
    "\n",
    "print(' # Total HTMLCanvasElement occurences',len(html_df ))\n",
    "print(' # unique HTMLCanvasElement occurences',len(html_urls))"
   ]
  },
  {
   "cell_type": "code",
   "execution_count": 15,
   "metadata": {},
   "outputs": [
    {
     "name": "stdout",
     "output_type": "stream",
     "text": [
      "[########################################] | 100% Completed |  0.1s # Total RTCPeerConnection occurences 101\n",
      " # unique RTCPeerConnection occurences 11\n"
     ]
    }
   ],
   "source": [
    "RTC_df = df[df.symbol_0 == 'RTCPeerConnection']\n",
    "RTC_urls = RTC_df.location.unique().persist()\n",
    "progress(RTC_urls, notebook=False)\n",
    "len(RTC_urls )\n",
    "print(' # Total RTCPeerConnection occurences',len(RTC_df ))\n",
    "print(' # unique RTCPeerConnection occurences',len(RTC_urls))"
   ]
  },
  {
   "cell_type": "code",
   "execution_count": 17,
   "metadata": {},
   "outputs": [
    {
     "name": "stdout",
     "output_type": "stream",
     "text": [
      "[########################################] | 100% Completed |  0.1s # Total CanvasRenderingContext2D occurences 1948\n",
      " # unique CanvasRenderingContext2D occurences 31\n"
     ]
    }
   ],
   "source": [
    "canvas_df = df[df.symbol_0 == 'CanvasRenderingContext2D']\n",
    "canvas_urls = canvas_df.location.unique().persist()\n",
    "progress(RTC_urls, notebook=False)\n",
    "print(' # Total CanvasRenderingContext2D occurences',len(canvas_df ))\n",
    "print(' # unique CanvasRenderingContext2D occurences',len(canvas_urls ))"
   ]
  },
  {
   "cell_type": "code",
   "execution_count": 20,
   "metadata": {
    "scrolled": true
   },
   "outputs": [
    {
     "data": {
      "image/png": "[encoded data removed]",
      "text/plain": [
       "<matplotlib.figure.Figure at 0x2a0546d9fd0>"
      ]
     },
     "metadata": {},
     "output_type": "display_data"
    }
   ],
   "source": [
    "dfplot = pd.DataFrame({'symbols':['window','HTMLCE','RTCPeer','CanvasRC2D'], 'count':[35417,856,101,1948]})\n",
    "ax = dfplot.plot.bar(x='symbols', y='count', rot=0)"
   ]
  },
  {
   "cell_type": "code",
   "execution_count": 21,
   "metadata": {},
   "outputs": [
    {
     "name": "stdout",
     "output_type": "stream",
     "text": [
      "[########################################] | 100% Completed |  1.9s"
     ]
    }
   ],
   "source": [
    "feature_plugin_df = df[df.symbol_2 == 'plugins[Shockwave Flash]']\n",
    "fp_urls = feature_plugin_df.location.unique().persist()\n",
    "progress(fp_urls, notebook=False)\n"
   ]
  },
  {
   "cell_type": "code",
   "execution_count": 22,
   "metadata": {},
   "outputs": [
    {
     "data": {
      "text/plain": [
       "0             https://theporndude.com/989/babesmachine\n",
       "1    https://ad.doubleclick.net/ddm/adi/N5620.15339...\n",
       "2    http://www.lazada.com.ph/shop-air-conditioners...\n",
       "3               http://animefreak.tv/watch/pupa-online\n",
       "4    http://www.eventim.de/disneys-musical-tarzan-i...\n",
       "Name: location, dtype: object"
      ]
     },
     "execution_count": 22,
     "metadata": {},
     "output_type": "execute_result"
    }
   ],
   "source": [
    "fp_urls = fp_urls.compute()\n",
    "fp_urls[0:5]\n"
   ]
  },
  {
   "cell_type": "code",
   "execution_count": 23,
   "metadata": {},
   "outputs": [
    {
     "data": {
      "text/plain": [
       "192"
      ]
     },
     "execution_count": 23,
     "metadata": {},
     "output_type": "execute_result"
    }
   ],
   "source": [
    "len(fp_urls)"
   ]
  },
  {
   "cell_type": "code",
   "execution_count": 24,
   "metadata": {},
   "outputs": [
    {
     "name": "stdout",
     "output_type": "stream",
     "text": [
      "[########################################] | 100% Completed |  2.3s # unique font features 22\n"
     ]
    }
   ],
   "source": [
    "featur_font_df = df[df.symbol_1 == 'font']\n",
    "ff_urls = featur_font_df.location.unique().persist()\n",
    "progress(ff_urls, notebook=False)\n",
    "print(' # unique font features',len(ff_urls))"
   ]
  },
  {
   "cell_type": "code",
   "execution_count": 25,
   "metadata": {},
   "outputs": [
    {
     "name": "stdout",
     "output_type": "stream",
     "text": [
      "[########################################] | 100% Completed |  2.2s # total font features 131\n"
     ]
    }
   ],
   "source": [
    "ffnu_urls = featur_font_df.location.persist()\n",
    "progress(ffnu_urls, notebook=False)\n",
    "ffnu_urls = ffnu_urls.compute()\n",
    "print(' # total font features',len(ffnu_urls))"
   ]
  },
  {
   "cell_type": "code",
   "execution_count": 26,
   "metadata": {
    "scrolled": true
   },
   "outputs": [
    {
     "data": {
      "text/plain": [
       "0    http://www.eventim.de/disneys-musical-tarzan-i...\n",
       "1    https://www.hesport.com/matches.html?season=14113\n",
       "2                  http://www.oregonlive.com/trending/\n",
       "3    https://w.soundcloud.com/player/?url=https%3A/...\n",
       "4                https://filmakinesi.org/kategori/spor\n",
       "Name: location, dtype: object"
      ]
     },
     "execution_count": 26,
     "metadata": {},
     "output_type": "execute_result"
    }
   ],
   "source": [
    "ff_urls = ff_urls.compute()\n",
    "ff_urls[0:5]"
   ]
  },
  {
   "cell_type": "markdown",
   "metadata": {},
   "source": [
    "## Plugins and Fonts\n",
    "According to some papers, the plugins with list of fonts are  very significant in order to identify a browser. For example, Iphone is considered to be least affected by browser fingerprinting as it has no flash setting. Hence Desktop machines are more vulnerable to this than mobile browsers. Hence we find number of locations which share fonnt and plugin information and that are 16 out of total 37234 records in this one parquete file. In many cases the flash plugin is a feature of google analytics script but when a script_url has both flash and font features and fonts are asked for multiple times it can be concluded as a fingerprinting script."
   ]
  },
  {
   "cell_type": "code",
   "execution_count": 27,
   "metadata": {},
   "outputs": [
    {
     "name": "stdout",
     "output_type": "stream",
     "text": [
      "# of location using plugins and font features 16\n"
     ]
    }
   ],
   "source": [
    "togethrfp_urls = set(fp_urls) & \\\n",
    "    set(ffnu_urls) \n",
    "print('# of location using plugins and font features', len(togethrfp_urls))"
   ]
  },
  {
   "cell_type": "markdown",
   "metadata": {},
   "source": [
    "# Entropy\n",
    "Entropy is used for categorical features in order to find number of occurence of certain value in an attribute. This is also used in decision tree to find right questions to ask. Here Entropy of combined plugins and fonts is to be considered."
   ]
  },
  {
   "cell_type": "markdown",
   "metadata": {},
   "source": [
    "# Further Analysis\n",
    "I have used Excel for most of my analysis due to the size of file and memory limitation on my side. That being said , I have mostly focused on location , symbol and value feature which could sufficiently identify a browser on the basis of its font type, user-agent, Date format , platform ,Canvas and audio fingerprint. I plan to use entropy to find the feature combination that is best to identify a browser. We still have the question of which urls could be blocked by adblocks? I decided to consider in_iframe , location , operation and script_url attributes to scratch the surface of the problem. The heuristic here is to check whether the feature in_iframe is true and script_url of a certain location has a '.js' file with similar '.js' file blocked in the past. Can we build a model to predict if a script would be blocked by adblock or not? \n",
    "We could consider features with highest entropy to uniquely identify a browser and train the model based on the past data."
   ]
  }
 ],
 "metadata": {
  "kernelspec": {
   "display_name": "Python 3",
   "language": "python",
   "name": "python3"
  },
  "language_info": {
   "codemirror_mode": {
    "name": "ipython",
    "version": 3
   },
   "file_extension": ".py",
   "mimetype": "text/x-python",
   "name": "python",
   "nbconvert_exporter": "python",
   "pygments_lexer": "ipython3",
   "version": "3.6.4"
  }
 },
 "nbformat": 4,
 "nbformat_minor": 2
}
