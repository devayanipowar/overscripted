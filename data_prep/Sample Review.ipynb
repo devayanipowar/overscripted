{
 "cells": [
  {
   "cell_type": "code",
   "execution_count": 1,
   "metadata": {},
   "outputs": [
    {
     "name": "stderr",
     "output_type": "stream",
     "text": [
      "/home/bird/miniconda3/envs/ovscrptd/lib/python3.6/site-packages/dask/config.py:168: YAMLLoadWarning: calling yaml.load() without Loader=... is deprecated, as the default Loader is unsafe. Please read https://msg.pyyaml.org/load for full details.\n",
      "  data = yaml.load(f.read()) or {}\n",
      "/home/bird/miniconda3/envs/ovscrptd/lib/python3.6/site-packages/distributed/config.py:20: YAMLLoadWarning: calling yaml.load() without Loader=... is deprecated, as the default Loader is unsafe. Please read https://msg.pyyaml.org/load for full details.\n",
      "  defaults = yaml.load(f)\n"
     ]
    },
    {
     "data": {
      "text/html": [
       "<table style=\"border: 2px solid white;\">\n",
       "<tr>\n",
       "<td style=\"vertical-align: top; border: 0px solid white\">\n",
       "<h3>Client</h3>\n",
       "<ul>\n",
       "  <li><b>Scheduler: </b>tcp://127.0.0.1:44039\n",
       "  <li><b>Dashboard: </b><a href='http://127.0.0.1:8787/status' target='_blank'>http://127.0.0.1:8787/status</a>\n",
       "</ul>\n",
       "</td>\n",
       "<td style=\"vertical-align: top; border: 0px solid white\">\n",
       "<h3>Cluster</h3>\n",
       "<ul>\n",
       "  <li><b>Workers: </b>4</li>\n",
       "  <li><b>Cores: </b>12</li>\n",
       "  <li><b>Memory: </b>33.35 GB</li>\n",
       "</ul>\n",
       "</td>\n",
       "</tr>\n",
       "</table>"
      ],
      "text/plain": [
       "<Client: scheduler='tcp://127.0.0.1:44039' processes=4 cores=12>"
      ]
     },
     "execution_count": 1,
     "metadata": {},
     "output_type": "execute_result"
    }
   ],
   "source": [
    "import dask.dataframe as dd\n",
    "from dask.distributed import Client\n",
    "\n",
    "client = Client()\n",
    "client"
   ]
  },
  {
   "cell_type": "code",
   "execution_count": 9,
   "metadata": {},
   "outputs": [],
   "source": [
    "import os\n",
    "\n",
    "# Set to your local data directory with a string or an environment variable\n",
    "# DATA_DIR = '/path/to/your/data'\n",
    "DATA_DIR = os.environ.get('DATA_DIR')"
   ]
  },
  {
   "cell_type": "markdown",
   "metadata": {},
   "source": [
    "This notebook briefly describes each of the sample datasets that have been uploaded.\n",
    "\n",
    "When using a sample dataset, take time to consider if it's representative  / suitable for the problem you're trying to solve and discuss your thoughts at the start of your analysis.\n",
    "\n",
    "Samples:\n",
    "\n",
    "1. value_1000_only\n",
    "1. sample_10percent\n",
    "1. sample_10percent_value_1000_only"
   ]
  },
  {
   "cell_type": "markdown",
   "metadata": {},
   "source": [
    "**1. value_1000_only**\n",
    "\n",
    "The `value` field can get very large. This dataset contains all the rows of the dataset, but truncates the `value` field to only keep the first 1000 characters in a column called `value_1000`. The `value_len` column contains the length of the original `value` field.\n",
    "\n",
    "This shrinks the full dataset to 15GB on disk when uncompressed (from 70GB)."
   ]
  },
  {
   "cell_type": "code",
   "execution_count": 28,
   "metadata": {},
   "outputs": [
    {
     "data": {
      "text/plain": [
       "Index(['argument_0', 'argument_1', 'argument_2', 'argument_3', 'argument_4',\n",
       "       'argument_5', 'argument_6', 'argument_7', 'argument_8', 'arguments',\n",
       "       'arguments_n_keys', 'call_id', 'call_stack', 'file_name', 'func_name',\n",
       "       'in_crawl_list', 'in_iframe', 'in_stripped_crawl_list', 'location',\n",
       "       'locations_len', 'operation', 'script_url', 'symbol', 'time_stamp',\n",
       "       'value_1000', 'value_len'],\n",
       "      dtype='object')"
      ]
     },
     "execution_count": 28,
     "metadata": {},
     "output_type": "execute_result"
    }
   ],
   "source": [
    "df = dd.read_parquet(DATA_DIR + 'clean_value_1000.parquet', engine='pyarrow')\n",
    "df.columns"
   ]
  },
  {
   "cell_type": "code",
   "execution_count": 7,
   "metadata": {},
   "outputs": [
    {
     "name": "stdout",
     "output_type": "stream",
     "text": [
      "Number of rows: 113,790,686.\n"
     ]
    }
   ],
   "source": [
    "print(f'Number of rows: {len(df):,}.')"
   ]
  },
  {
   "cell_type": "markdown",
   "metadata": {},
   "source": [
    "**2. sample_10percent**\n",
    "\n",
    "This is a 10% sample of the complete dataset. It is 7.4GB when uncompressed on disk.\n",
    "\n",
    "The sampling procedure was to take 10% of the unique values in the `location` field, and then take all calls for those locations."
   ]
  },
  {
   "cell_type": "code",
   "execution_count": 10,
   "metadata": {},
   "outputs": [
    {
     "data": {
      "text/plain": [
       "Index(['argument_0', 'argument_1', 'argument_2', 'argument_3', 'argument_4',\n",
       "       'argument_5', 'argument_6', 'argument_7', 'argument_8', 'arguments',\n",
       "       'arguments_n_keys', 'call_stack', 'crawl_id', 'file_name', 'func_name',\n",
       "       'in_iframe', 'location', 'operation', 'script_col', 'script_line',\n",
       "       'script_loc_eval', 'script_url', 'symbol', 'time_stamp', 'value',\n",
       "       'value_1000', 'value_len'],\n",
       "      dtype='object')"
      ]
     },
     "execution_count": 10,
     "metadata": {},
     "output_type": "execute_result"
    }
   ],
   "source": [
    "df = dd.read_parquet(DATA_DIR + 'sample_10percent.parquet', engine='pyarrow')\n",
    "df.columns"
   ]
  },
  {
   "cell_type": "code",
   "execution_count": 20,
   "metadata": {},
   "outputs": [
    {
     "name": "stdout",
     "output_type": "stream",
     "text": [
      "Number of rows: 11,292,867.\n"
     ]
    }
   ],
   "source": [
    "print(f'Number of rows: {len(df):,}.')"
   ]
  },
  {
   "cell_type": "markdown",
   "metadata": {},
   "source": [
    "**3. sample_10percent_value_1000_only**\n",
    "\n",
    "This is a combination of the ideas from the previous two samples. It is the *same* 10% from \"2\" with the `value` column removed, leaving just the `value_1000` column.\n",
    "\n",
    "This dataset is just 1.3GB uncompressed on disk."
   ]
  },
  {
   "cell_type": "code",
   "execution_count": 22,
   "metadata": {},
   "outputs": [
    {
     "data": {
      "text/plain": [
       "Index(['argument_0', 'argument_1', 'argument_2', 'argument_3', 'argument_4',\n",
       "       'argument_5', 'argument_6', 'argument_7', 'argument_8', 'arguments',\n",
       "       'arguments_n_keys', 'call_stack', 'crawl_id', 'file_name', 'func_name',\n",
       "       'in_iframe', 'location', 'operation', 'script_col', 'script_line',\n",
       "       'script_loc_eval', 'script_url', 'symbol', 'time_stamp', 'value_1000',\n",
       "       'value_len'],\n",
       "      dtype='object')"
      ]
     },
     "execution_count": 22,
     "metadata": {},
     "output_type": "execute_result"
    }
   ],
   "source": [
    "df = dd.read_parquet(DATA_DIR + 'sample_10percent_value_1000_only.parquet', engine='pyarrow')\n",
    "df.columns"
   ]
  },
  {
   "cell_type": "code",
   "execution_count": 23,
   "metadata": {},
   "outputs": [
    {
     "name": "stdout",
     "output_type": "stream",
     "text": [
      "Number of rows: 11,292,867.\n"
     ]
    }
   ],
   "source": [
    "print(f'Number of rows: {len(df):,}.')"
   ]
  },
  {
   "cell_type": "code",
   "execution_count": null,
   "metadata": {},
   "outputs": [],
   "source": []
  }
 ],
 "metadata": {
  "kernelspec": {
   "display_name": "Python 3",
   "language": "python",
   "name": "python3"
  },
  "language_info": {
   "codemirror_mode": {
    "name": "ipython",
    "version": 3
   },
   "file_extension": ".py",
   "mimetype": "text/x-python",
   "name": "python",
   "nbconvert_exporter": "python",
   "pygments_lexer": "ipython3",
   "version": "3.6.7"
  }
 },
 "nbformat": 4,
 "nbformat_minor": 2
}
